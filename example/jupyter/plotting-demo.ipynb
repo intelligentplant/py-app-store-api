{
 "cells": [
  {
   "cell_type": "markdown",
   "metadata": {},
   "source": [
    "# Plotting Data"
   ]
  },
  {
   "cell_type": "code",
   "execution_count": 1,
   "metadata": {},
   "outputs": [],
   "source": [
    "import json\n",
    "\n",
    "import intelligent_plant.session_manager as session_manager\n",
    "import intelligent_plant.utility as utility\n",
    "\n",
    "# Remeber to enable the device code flow in the app store app registration\n",
    "\n",
    "#load the json config file with the app information\n",
    "with open('config.json') as json_config_file:\n",
    "    config = json.load(json_config_file)\n",
    "\n",
    "    app_id = config['app']['id']\n",
    "    app_secret = config['app']['secret']\n",
    "    base_url = config['app_store']['base_url']\n",
    "\n",
    "\n",
    "app_store = session_manager.load_session_or_login(app_id, app_secret, scopes=['DataRead'], base_url=base_url)\n",
    "\n",
    "data_core = app_store.get_data_core_client()"
   ]
  },
  {
   "cell_type": "markdown",
   "metadata": {},
   "source": [
    "Look up the fully qualified names of authorised data sources.\n",
    "Check that 'Oil Co Demo' appears in this list for you."
   ]
  },
  {
   "cell_type": "code",
   "execution_count": 2,
   "metadata": {},
   "outputs": [
    {
     "data": {
      "text/plain": [
       "['FCBB05262EADC0B147746EE6DFB2B3EA5C272C33C2C5E3FE8F473D85529461CA.Alarm Analysis Demo',\n",
       " 'FCBB05262EADC0B147746EE6DFB2B3EA5C272C33C2C5E3FE8F473D85529461CA.Oil Co Demo']"
      ]
     },
     "execution_count": 2,
     "metadata": {},
     "output_type": "execute_result"
    }
   ],
   "source": [
    "list(map(lambda x: x['Name']['QualifiedName'], data_core.get_data_sources()))"
   ]
  },
  {
   "cell_type": "markdown",
   "metadata": {},
   "source": [
    "We'll use Oil Co Demo as an example"
   ]
  },
  {
   "cell_type": "code",
   "execution_count": 3,
   "metadata": {},
   "outputs": [],
   "source": [
    "dsn = 'FCBB05262EADC0B147746EE6DFB2B3EA5C272C33C2C5E3FE8F473D85529461CA.Oil Co Demo'"
   ]
  },
  {
   "cell_type": "markdown",
   "metadata": {},
   "source": [
    "Get the 1st page of the tag list for the data source"
   ]
  },
  {
   "cell_type": "code",
   "execution_count": 4,
   "metadata": {},
   "outputs": [],
   "source": [
    "tags = data_core.get_tags(dsn)\n",
    "\n",
    "tag_names = list(map(lambda x: x[\"Id\"], tags))"
   ]
  },
  {
   "cell_type": "markdown",
   "metadata": {},
   "source": [
    "Show the tag list"
   ]
  },
  {
   "cell_type": "code",
   "execution_count": 5,
   "metadata": {},
   "outputs": [
    {
     "data": {
      "text/plain": [
       "['AT-100143.IND_EU',\n",
       " 'FT-100127-A.PV_IND',\n",
       " 'FT-100127-B.IND_EU',\n",
       " 'FT-100132-1',\n",
       " 'LIC001',\n",
       " 'LIC001_OP',\n",
       " 'LIC001_PV',\n",
       " 'LIC001_SP',\n",
       " 'LIC002',\n",
       " 'LIC002_OP',\n",
       " 'LIC002_PV',\n",
       " 'LIC002_SP',\n",
       " 'LIC003',\n",
       " 'LIC003_OP',\n",
       " 'LIC003_PV',\n",
       " 'LIC003_SP',\n",
       " 'LIC004',\n",
       " 'LIC004_OP',\n",
       " 'LIC004_PV',\n",
       " 'LIC004_SP']"
      ]
     },
     "execution_count": 5,
     "metadata": {},
     "output_type": "execute_result"
    }
   ],
   "source": [
    "tag_names"
   ]
  },
  {
   "cell_type": "markdown",
   "metadata": {},
   "source": [
    "Make a request for plot data for the 1st tag in the list"
   ]
  },
  {
   "cell_type": "code",
   "execution_count": 6,
   "metadata": {},
   "outputs": [],
   "source": [
    "data = data_core.get_plot_data({dsn: tag_names}, \"*-30d\", \"*\", 30)"
   ]
  },
  {
   "cell_type": "markdown",
   "metadata": {},
   "source": [
    "Import the intelligent plant utility and matplotlib\n",
    "\n",
    "The IP utility esily transforms data returned by the data core API into a pandas data frame\n",
    "\n",
    "Matplotlib is used to make plots"
   ]
  },
  {
   "cell_type": "code",
   "execution_count": 7,
   "metadata": {},
   "outputs": [],
   "source": [
    "import intelligent_plant.utility as utility\n",
    "import matplotlib.pyplot as plt"
   ]
  },
  {
   "cell_type": "markdown",
   "metadata": {},
   "source": [
    "Use the IP utility to transform the response object into a data frame"
   ]
  },
  {
   "cell_type": "code",
   "execution_count": 8,
   "metadata": {},
   "outputs": [],
   "source": [
    "data_frame = utility.query_result_to_data_frame(data, force_numeric=True).ffill()"
   ]
  },
  {
   "cell_type": "code",
   "execution_count": 9,
   "metadata": {},
   "outputs": [
    {
     "data": {
      "text/html": [
       "<div>\n",
       "<style scoped>\n",
       "    .dataframe tbody tr th:only-of-type {\n",
       "        vertical-align: middle;\n",
       "    }\n",
       "\n",
       "    .dataframe tbody tr th {\n",
       "        vertical-align: top;\n",
       "    }\n",
       "\n",
       "    .dataframe thead th {\n",
       "        text-align: right;\n",
       "    }\n",
       "</style>\n",
       "<table border=\"1\" class=\"dataframe\">\n",
       "  <thead>\n",
       "    <tr style=\"text-align: right;\">\n",
       "      <th></th>\n",
       "      <th>FT-100127-B.IND_EU</th>\n",
       "      <th>FT-100132-1</th>\n",
       "      <th>LIC001_PV</th>\n",
       "      <th>LIC001_SP</th>\n",
       "      <th>LIC003</th>\n",
       "      <th>LIC004_OP</th>\n",
       "      <th>LIC002</th>\n",
       "      <th>LIC001</th>\n",
       "      <th>AT-100143.IND_EU</th>\n",
       "      <th>FT-100127-A.PV_IND</th>\n",
       "      <th>LIC001_OP</th>\n",
       "      <th>LIC002_PV</th>\n",
       "      <th>LIC004</th>\n",
       "      <th>LIC004_PV</th>\n",
       "      <th>LIC004_SP</th>\n",
       "      <th>LIC002_SP</th>\n",
       "      <th>LIC003_PV</th>\n",
       "      <th>LIC003_SP</th>\n",
       "      <th>LIC002_OP</th>\n",
       "      <th>LIC003_OP</th>\n",
       "    </tr>\n",
       "  </thead>\n",
       "  <tbody>\n",
       "    <tr>\n",
       "      <th>2025-01-11 14:31:13.675919100+00:00</th>\n",
       "      <td>710.211022</td>\n",
       "      <td>701.629678</td>\n",
       "      <td>83.036488</td>\n",
       "      <td>83.0</td>\n",
       "      <td>50.0</td>\n",
       "      <td>40.983630</td>\n",
       "      <td>50.0</td>\n",
       "      <td>50.0</td>\n",
       "      <td>-25.0</td>\n",
       "      <td>701.411758</td>\n",
       "      <td>82.938324</td>\n",
       "      <td>61.306656</td>\n",
       "      <td>50.0</td>\n",
       "      <td>40.909480</td>\n",
       "      <td>41.0</td>\n",
       "      <td>62.0</td>\n",
       "      <td>66.152380</td>\n",
       "      <td>66.0</td>\n",
       "      <td>58.998023</td>\n",
       "      <td>66.040595</td>\n",
       "    </tr>\n",
       "    <tr>\n",
       "      <th>2025-01-11 14:40:00+00:00</th>\n",
       "      <td>709.629218</td>\n",
       "      <td>701.050574</td>\n",
       "      <td>83.036488</td>\n",
       "      <td>83.0</td>\n",
       "      <td>50.0</td>\n",
       "      <td>40.979656</td>\n",
       "      <td>50.0</td>\n",
       "      <td>50.0</td>\n",
       "      <td>-25.0</td>\n",
       "      <td>700.948166</td>\n",
       "      <td>82.941530</td>\n",
       "      <td>61.340160</td>\n",
       "      <td>50.0</td>\n",
       "      <td>40.909584</td>\n",
       "      <td>41.0</td>\n",
       "      <td>62.0</td>\n",
       "      <td>66.145233</td>\n",
       "      <td>66.0</td>\n",
       "      <td>58.936689</td>\n",
       "      <td>66.067550</td>\n",
       "    </tr>\n",
       "    <tr>\n",
       "      <th>2025-01-11 17:30:00+00:00</th>\n",
       "      <td>709.629218</td>\n",
       "      <td>701.050574</td>\n",
       "      <td>83.036488</td>\n",
       "      <td>83.0</td>\n",
       "      <td>50.0</td>\n",
       "      <td>40.979656</td>\n",
       "      <td>50.0</td>\n",
       "      <td>50.0</td>\n",
       "      <td>-25.0</td>\n",
       "      <td>700.948166</td>\n",
       "      <td>82.941530</td>\n",
       "      <td>66.195203</td>\n",
       "      <td>50.0</td>\n",
       "      <td>40.909584</td>\n",
       "      <td>41.0</td>\n",
       "      <td>62.0</td>\n",
       "      <td>66.145233</td>\n",
       "      <td>66.0</td>\n",
       "      <td>58.936689</td>\n",
       "      <td>66.067550</td>\n",
       "    </tr>\n",
       "    <tr>\n",
       "      <th>2025-01-11 19:10:00+00:00</th>\n",
       "      <td>709.629218</td>\n",
       "      <td>701.050574</td>\n",
       "      <td>83.036488</td>\n",
       "      <td>83.0</td>\n",
       "      <td>50.0</td>\n",
       "      <td>40.880884</td>\n",
       "      <td>50.0</td>\n",
       "      <td>50.0</td>\n",
       "      <td>-25.0</td>\n",
       "      <td>700.948166</td>\n",
       "      <td>82.941530</td>\n",
       "      <td>66.195203</td>\n",
       "      <td>50.0</td>\n",
       "      <td>40.909584</td>\n",
       "      <td>41.0</td>\n",
       "      <td>62.0</td>\n",
       "      <td>66.145233</td>\n",
       "      <td>66.0</td>\n",
       "      <td>58.936689</td>\n",
       "      <td>66.067550</td>\n",
       "    </tr>\n",
       "    <tr>\n",
       "      <th>2025-01-11 20:10:00+00:00</th>\n",
       "      <td>711.832757</td>\n",
       "      <td>702.927597</td>\n",
       "      <td>83.036488</td>\n",
       "      <td>83.0</td>\n",
       "      <td>50.0</td>\n",
       "      <td>40.880884</td>\n",
       "      <td>50.0</td>\n",
       "      <td>50.0</td>\n",
       "      <td>-25.0</td>\n",
       "      <td>703.065550</td>\n",
       "      <td>82.941530</td>\n",
       "      <td>66.195203</td>\n",
       "      <td>50.0</td>\n",
       "      <td>40.909584</td>\n",
       "      <td>41.0</td>\n",
       "      <td>62.0</td>\n",
       "      <td>66.145233</td>\n",
       "      <td>66.0</td>\n",
       "      <td>58.936689</td>\n",
       "      <td>66.067550</td>\n",
       "    </tr>\n",
       "    <tr>\n",
       "      <th>...</th>\n",
       "      <td>...</td>\n",
       "      <td>...</td>\n",
       "      <td>...</td>\n",
       "      <td>...</td>\n",
       "      <td>...</td>\n",
       "      <td>...</td>\n",
       "      <td>...</td>\n",
       "      <td>...</td>\n",
       "      <td>...</td>\n",
       "      <td>...</td>\n",
       "      <td>...</td>\n",
       "      <td>...</td>\n",
       "      <td>...</td>\n",
       "      <td>...</td>\n",
       "      <td>...</td>\n",
       "      <td>...</td>\n",
       "      <td>...</td>\n",
       "      <td>...</td>\n",
       "      <td>...</td>\n",
       "      <td>...</td>\n",
       "    </tr>\n",
       "    <tr>\n",
       "      <th>2025-02-10 10:00:00+00:00</th>\n",
       "      <td>703.583911</td>\n",
       "      <td>694.714564</td>\n",
       "      <td>82.934221</td>\n",
       "      <td>83.0</td>\n",
       "      <td>50.0</td>\n",
       "      <td>46.576135</td>\n",
       "      <td>50.0</td>\n",
       "      <td>50.0</td>\n",
       "      <td>-25.0</td>\n",
       "      <td>695.325549</td>\n",
       "      <td>90.140531</td>\n",
       "      <td>66.033076</td>\n",
       "      <td>50.0</td>\n",
       "      <td>45.227692</td>\n",
       "      <td>57.0</td>\n",
       "      <td>62.0</td>\n",
       "      <td>42.687781</td>\n",
       "      <td>66.0</td>\n",
       "      <td>66.396385</td>\n",
       "      <td>66.150923</td>\n",
       "    </tr>\n",
       "    <tr>\n",
       "      <th>2025-02-10 13:40:00+00:00</th>\n",
       "      <td>703.583911</td>\n",
       "      <td>694.714564</td>\n",
       "      <td>82.934221</td>\n",
       "      <td>83.0</td>\n",
       "      <td>50.0</td>\n",
       "      <td>46.576135</td>\n",
       "      <td>50.0</td>\n",
       "      <td>50.0</td>\n",
       "      <td>-25.0</td>\n",
       "      <td>695.325549</td>\n",
       "      <td>82.923256</td>\n",
       "      <td>66.033076</td>\n",
       "      <td>50.0</td>\n",
       "      <td>45.227692</td>\n",
       "      <td>57.0</td>\n",
       "      <td>62.0</td>\n",
       "      <td>42.687781</td>\n",
       "      <td>66.0</td>\n",
       "      <td>66.396385</td>\n",
       "      <td>66.150923</td>\n",
       "    </tr>\n",
       "    <tr>\n",
       "      <th>2025-02-10 14:00:00+00:00</th>\n",
       "      <td>703.583911</td>\n",
       "      <td>694.714564</td>\n",
       "      <td>82.934221</td>\n",
       "      <td>83.0</td>\n",
       "      <td>50.0</td>\n",
       "      <td>46.576135</td>\n",
       "      <td>50.0</td>\n",
       "      <td>50.0</td>\n",
       "      <td>-25.0</td>\n",
       "      <td>695.325549</td>\n",
       "      <td>82.923256</td>\n",
       "      <td>66.033076</td>\n",
       "      <td>50.0</td>\n",
       "      <td>45.227692</td>\n",
       "      <td>57.0</td>\n",
       "      <td>62.0</td>\n",
       "      <td>66.165830</td>\n",
       "      <td>66.0</td>\n",
       "      <td>66.396385</td>\n",
       "      <td>66.150923</td>\n",
       "    </tr>\n",
       "    <tr>\n",
       "      <th>2025-02-10 14:30:00+00:00</th>\n",
       "      <td>709.629218</td>\n",
       "      <td>701.050574</td>\n",
       "      <td>83.036488</td>\n",
       "      <td>83.0</td>\n",
       "      <td>50.0</td>\n",
       "      <td>40.979656</td>\n",
       "      <td>50.0</td>\n",
       "      <td>50.0</td>\n",
       "      <td>-25.0</td>\n",
       "      <td>700.948166</td>\n",
       "      <td>82.941530</td>\n",
       "      <td>61.340160</td>\n",
       "      <td>50.0</td>\n",
       "      <td>40.909584</td>\n",
       "      <td>41.0</td>\n",
       "      <td>62.0</td>\n",
       "      <td>66.145233</td>\n",
       "      <td>66.0</td>\n",
       "      <td>58.936689</td>\n",
       "      <td>66.067550</td>\n",
       "    </tr>\n",
       "    <tr>\n",
       "      <th>2025-02-10 14:31:13.675919100+00:00</th>\n",
       "      <td>709.629218</td>\n",
       "      <td>701.050574</td>\n",
       "      <td>83.036488</td>\n",
       "      <td>83.0</td>\n",
       "      <td>50.0</td>\n",
       "      <td>40.979656</td>\n",
       "      <td>50.0</td>\n",
       "      <td>50.0</td>\n",
       "      <td>-25.0</td>\n",
       "      <td>700.948166</td>\n",
       "      <td>82.941530</td>\n",
       "      <td>61.340160</td>\n",
       "      <td>50.0</td>\n",
       "      <td>40.909584</td>\n",
       "      <td>41.0</td>\n",
       "      <td>62.0</td>\n",
       "      <td>66.145233</td>\n",
       "      <td>66.0</td>\n",
       "      <td>58.936689</td>\n",
       "      <td>66.067550</td>\n",
       "    </tr>\n",
       "  </tbody>\n",
       "</table>\n",
       "<p>554 rows × 20 columns</p>\n",
       "</div>"
      ],
      "text/plain": [
       "                                     FT-100127-B.IND_EU  FT-100132-1  \\\n",
       "2025-01-11 14:31:13.675919100+00:00          710.211022   701.629678   \n",
       "2025-01-11 14:40:00+00:00                    709.629218   701.050574   \n",
       "2025-01-11 17:30:00+00:00                    709.629218   701.050574   \n",
       "2025-01-11 19:10:00+00:00                    709.629218   701.050574   \n",
       "2025-01-11 20:10:00+00:00                    711.832757   702.927597   \n",
       "...                                                 ...          ...   \n",
       "2025-02-10 10:00:00+00:00                    703.583911   694.714564   \n",
       "2025-02-10 13:40:00+00:00                    703.583911   694.714564   \n",
       "2025-02-10 14:00:00+00:00                    703.583911   694.714564   \n",
       "2025-02-10 14:30:00+00:00                    709.629218   701.050574   \n",
       "2025-02-10 14:31:13.675919100+00:00          709.629218   701.050574   \n",
       "\n",
       "                                     LIC001_PV  LIC001_SP  LIC003  LIC004_OP  \\\n",
       "2025-01-11 14:31:13.675919100+00:00  83.036488       83.0    50.0  40.983630   \n",
       "2025-01-11 14:40:00+00:00            83.036488       83.0    50.0  40.979656   \n",
       "2025-01-11 17:30:00+00:00            83.036488       83.0    50.0  40.979656   \n",
       "2025-01-11 19:10:00+00:00            83.036488       83.0    50.0  40.880884   \n",
       "2025-01-11 20:10:00+00:00            83.036488       83.0    50.0  40.880884   \n",
       "...                                        ...        ...     ...        ...   \n",
       "2025-02-10 10:00:00+00:00            82.934221       83.0    50.0  46.576135   \n",
       "2025-02-10 13:40:00+00:00            82.934221       83.0    50.0  46.576135   \n",
       "2025-02-10 14:00:00+00:00            82.934221       83.0    50.0  46.576135   \n",
       "2025-02-10 14:30:00+00:00            83.036488       83.0    50.0  40.979656   \n",
       "2025-02-10 14:31:13.675919100+00:00  83.036488       83.0    50.0  40.979656   \n",
       "\n",
       "                                     LIC002  LIC001  AT-100143.IND_EU  \\\n",
       "2025-01-11 14:31:13.675919100+00:00    50.0    50.0             -25.0   \n",
       "2025-01-11 14:40:00+00:00              50.0    50.0             -25.0   \n",
       "2025-01-11 17:30:00+00:00              50.0    50.0             -25.0   \n",
       "2025-01-11 19:10:00+00:00              50.0    50.0             -25.0   \n",
       "2025-01-11 20:10:00+00:00              50.0    50.0             -25.0   \n",
       "...                                     ...     ...               ...   \n",
       "2025-02-10 10:00:00+00:00              50.0    50.0             -25.0   \n",
       "2025-02-10 13:40:00+00:00              50.0    50.0             -25.0   \n",
       "2025-02-10 14:00:00+00:00              50.0    50.0             -25.0   \n",
       "2025-02-10 14:30:00+00:00              50.0    50.0             -25.0   \n",
       "2025-02-10 14:31:13.675919100+00:00    50.0    50.0             -25.0   \n",
       "\n",
       "                                     FT-100127-A.PV_IND  LIC001_OP  LIC002_PV  \\\n",
       "2025-01-11 14:31:13.675919100+00:00          701.411758  82.938324  61.306656   \n",
       "2025-01-11 14:40:00+00:00                    700.948166  82.941530  61.340160   \n",
       "2025-01-11 17:30:00+00:00                    700.948166  82.941530  66.195203   \n",
       "2025-01-11 19:10:00+00:00                    700.948166  82.941530  66.195203   \n",
       "2025-01-11 20:10:00+00:00                    703.065550  82.941530  66.195203   \n",
       "...                                                 ...        ...        ...   \n",
       "2025-02-10 10:00:00+00:00                    695.325549  90.140531  66.033076   \n",
       "2025-02-10 13:40:00+00:00                    695.325549  82.923256  66.033076   \n",
       "2025-02-10 14:00:00+00:00                    695.325549  82.923256  66.033076   \n",
       "2025-02-10 14:30:00+00:00                    700.948166  82.941530  61.340160   \n",
       "2025-02-10 14:31:13.675919100+00:00          700.948166  82.941530  61.340160   \n",
       "\n",
       "                                     LIC004  LIC004_PV  LIC004_SP  LIC002_SP  \\\n",
       "2025-01-11 14:31:13.675919100+00:00    50.0  40.909480       41.0       62.0   \n",
       "2025-01-11 14:40:00+00:00              50.0  40.909584       41.0       62.0   \n",
       "2025-01-11 17:30:00+00:00              50.0  40.909584       41.0       62.0   \n",
       "2025-01-11 19:10:00+00:00              50.0  40.909584       41.0       62.0   \n",
       "2025-01-11 20:10:00+00:00              50.0  40.909584       41.0       62.0   \n",
       "...                                     ...        ...        ...        ...   \n",
       "2025-02-10 10:00:00+00:00              50.0  45.227692       57.0       62.0   \n",
       "2025-02-10 13:40:00+00:00              50.0  45.227692       57.0       62.0   \n",
       "2025-02-10 14:00:00+00:00              50.0  45.227692       57.0       62.0   \n",
       "2025-02-10 14:30:00+00:00              50.0  40.909584       41.0       62.0   \n",
       "2025-02-10 14:31:13.675919100+00:00    50.0  40.909584       41.0       62.0   \n",
       "\n",
       "                                     LIC003_PV  LIC003_SP  LIC002_OP  \\\n",
       "2025-01-11 14:31:13.675919100+00:00  66.152380       66.0  58.998023   \n",
       "2025-01-11 14:40:00+00:00            66.145233       66.0  58.936689   \n",
       "2025-01-11 17:30:00+00:00            66.145233       66.0  58.936689   \n",
       "2025-01-11 19:10:00+00:00            66.145233       66.0  58.936689   \n",
       "2025-01-11 20:10:00+00:00            66.145233       66.0  58.936689   \n",
       "...                                        ...        ...        ...   \n",
       "2025-02-10 10:00:00+00:00            42.687781       66.0  66.396385   \n",
       "2025-02-10 13:40:00+00:00            42.687781       66.0  66.396385   \n",
       "2025-02-10 14:00:00+00:00            66.165830       66.0  66.396385   \n",
       "2025-02-10 14:30:00+00:00            66.145233       66.0  58.936689   \n",
       "2025-02-10 14:31:13.675919100+00:00  66.145233       66.0  58.936689   \n",
       "\n",
       "                                     LIC003_OP  \n",
       "2025-01-11 14:31:13.675919100+00:00  66.040595  \n",
       "2025-01-11 14:40:00+00:00            66.067550  \n",
       "2025-01-11 17:30:00+00:00            66.067550  \n",
       "2025-01-11 19:10:00+00:00            66.067550  \n",
       "2025-01-11 20:10:00+00:00            66.067550  \n",
       "...                                        ...  \n",
       "2025-02-10 10:00:00+00:00            66.150923  \n",
       "2025-02-10 13:40:00+00:00            66.150923  \n",
       "2025-02-10 14:00:00+00:00            66.150923  \n",
       "2025-02-10 14:30:00+00:00            66.067550  \n",
       "2025-02-10 14:31:13.675919100+00:00  66.067550  \n",
       "\n",
       "[554 rows x 20 columns]"
      ]
     },
     "execution_count": 9,
     "metadata": {},
     "output_type": "execute_result"
    }
   ],
   "source": [
    "data_frame"
   ]
  },
  {
   "cell_type": "markdown",
   "metadata": {},
   "source": [
    "Plot the first 5 tags in the data frame data frame"
   ]
  },
  {
   "cell_type": "code",
   "execution_count": 10,
   "metadata": {
    "slideshow": {
     "slide_type": "-"
    },
    "tags": [
     "hide_input"
    ]
   },
   "outputs": [
    {
     "data": {
      "text/plain": [
       "<Axes: >"
      ]
     },
     "execution_count": 10,
     "metadata": {},
     "output_type": "execute_result"
    },
    {
     "data": {
      "image/png": "[encoded data removed]",
      "text/plain": [
       "<Figure size 640x480 with 1 Axes>"
      ]
     },
     "metadata": {},
     "output_type": "display_data"
    }
   ],
   "source": [
    "data_frame[tag_names[:5]].plot()"
   ]
  },
  {
   "cell_type": "code",
   "execution_count": null,
   "metadata": {},
   "outputs": [],
   "source": []
  }
 ],
 "metadata": {
  "kernelspec": {
   "display_name": "venv",
   "language": "python",
   "name": "python3"
  },
  "language_info": {
   "codemirror_mode": {
    "name": "ipython",
    "version": 3
   },
   "file_extension": ".py",
   "mimetype": "text/x-python",
   "name": "python",
   "nbconvert_exporter": "python",
   "pygments_lexer": "ipython3",
   "version": "3.10.4"
  }
 },
 "nbformat": 4,
 "nbformat_minor": 4
}
