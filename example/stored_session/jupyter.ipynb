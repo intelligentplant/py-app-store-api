{
 "cells": [
  {
   "cell_type": "code",
   "execution_count": null,
   "id": "2215baaa-f64a-4aa8-9801-63c64f88c344",
   "metadata": {},
   "outputs": [],
   "source": [
    "import json\n",
    "\n",
    "import intelligent_plant.session_manager as session_manager\n",
    "import intelligent_plant.utility as utility\n",
    "\n",
    "# Remeber to enable the device code flow in the app store app registration\n",
    "\n",
    "#load the json config file with the app information\n",
    "with open('config.json') as json_config_file:\n",
    "    config = json.load(json_config_file)\n",
    "\n",
    "    app_id = config['app']['id']\n",
    "    app_secret = config['app']['secret']\n",
    "    base_url = config['app_store']['base_url']\n",
    "\n",
    "\n",
    "app_store = session_manager.load_session_or_login(app_id, app_secret, scopes=['DataRead'], base_url=base_url)\n",
    "\n",
    "data_core = app_store.get_data_core_client()"
   ]
  },
  {
   "cell_type": "code",
   "execution_count": null,
   "id": "484d1ace-f2b7-4476-bb46-1d207b68864c",
   "metadata": {},
   "outputs": [],
   "source": [
    "print(list(map(lambda x: x['Name']['QualifiedName'], data_core.get_data_sources())))"
   ]
  },
  {
   "cell_type": "code",
   "execution_count": null,
   "id": "36441431-6f7c-4cf6-995f-53a717deafdc",
   "metadata": {},
   "outputs": [],
   "source": [
    "app_store.get_user_info()\n"
   ]
  },
  {
   "cell_type": "code",
   "execution_count": null,
   "id": "8ef52c5a",
   "metadata": {},
   "outputs": [],
   "source": [
    "data_core.get_data_sources()"
   ]
  },
  {
   "cell_type": "code",
   "execution_count": null,
   "id": "afc6a3a1",
   "metadata": {},
   "outputs": [],
   "source": [
    "dsn = 'FCBB05262EADC0B147746EE6DFB2B3EA5C272C33C2C5E3FE8F473D85529461CA.Oil Co Demo'"
   ]
  },
  {
   "cell_type": "code",
   "execution_count": null,
   "id": "449715ed",
   "metadata": {},
   "outputs": [],
   "source": [
    "tags = list(map(lambda x: x['Name'], data_core.get_tags(dsn)))\n",
    "tags"
   ]
  },
  {
   "cell_type": "code",
   "execution_count": null,
   "id": "1291cf58",
   "metadata": {},
   "outputs": [],
   "source": [
    "tag = 'FT-100127-A.PV_IND'"
   ]
  },
  {
   "cell_type": "code",
   "execution_count": null,
   "id": "1e74b8d5",
   "metadata": {},
   "outputs": [],
   "source": [
    "resp = data_core.get_plot_data({dsn: [tag]}, '*-10d', '*', 1000)"
   ]
  },
  {
   "cell_type": "code",
   "execution_count": null,
   "id": "6e4aea53",
   "metadata": {},
   "outputs": [],
   "source": [
    "df = utility.query_result_to_data_frame(resp)\n",
    "df"
   ]
  },
  {
   "cell_type": "code",
   "execution_count": null,
   "id": "cef8b88c",
   "metadata": {},
   "outputs": [],
   "source": [
    "df.plot()"
   ]
  },
  {
   "cell_type": "markdown",
   "id": "909ffb7c",
   "metadata": {},
   "source": []
  },
  {
   "cell_type": "code",
   "execution_count": null,
   "id": "12b5eed6",
   "metadata": {},
   "outputs": [],
   "source": [
    "resp = data_core.get_plot_data({dsn: tags}, '*-10d', '*', 1000)\n",
    "df = utility.query_result_to_data_frame(resp, force_numeric=True)"
   ]
  },
  {
   "cell_type": "code",
   "execution_count": null,
   "id": "079255ad",
   "metadata": {},
   "outputs": [],
   "source": [
    "df.plot()"
   ]
  },
  {
   "cell_type": "code",
   "execution_count": null,
   "id": "cc35578d",
   "metadata": {},
   "outputs": [],
   "source": [
    "data_core.get_snapshot_data({dsn: [tag]})"
   ]
  },
  {
   "cell_type": "code",
   "execution_count": null,
   "id": "acf358a9",
   "metadata": {},
   "outputs": [],
   "source": [
    "data_core.get_data_at_times({dsn: tags}, [\"2019-07-06T19:50:36.0113792Z\"])"
   ]
  },
  {
   "cell_type": "code",
   "execution_count": null,
   "id": "c4255191",
   "metadata": {},
   "outputs": [],
   "source": [
    "resp = data_core.get_processed_data({dsn: tags}, '*-10d', '*', '1d', 'avg')\n",
    "df = utility.query_result_to_data_frame(resp, force_numeric=True)"
   ]
  },
  {
   "cell_type": "code",
   "execution_count": null,
   "id": "3b172b6b",
   "metadata": {},
   "outputs": [],
   "source": [
    "df.plot()"
   ]
  },
  {
   "cell_type": "code",
   "execution_count": null,
   "id": "fc35b4d9",
   "metadata": {},
   "outputs": [],
   "source": []
  }
 ],
 "metadata": {
  "kernelspec": {
   "display_name": "Python 3 (ipykernel)",
   "language": "python",
   "name": "python3"
  },
  "language_info": {
   "codemirror_mode": {
    "name": "ipython",
    "version": 3
   },
   "file_extension": ".py",
   "mimetype": "text/x-python",
   "name": "python",
   "nbconvert_exporter": "python",
   "pygments_lexer": "ipython3",
   "version": "3.10.4"
  }
 },
 "nbformat": 4,
 "nbformat_minor": 5
}
