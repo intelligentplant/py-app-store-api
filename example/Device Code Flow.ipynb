{
 "cells": [
  {
   "cell_type": "code",
   "execution_count": 1,
   "id": "2215baaa-f64a-4aa8-9801-63c64f88c344",
   "metadata": {},
   "outputs": [
    {
     "name": "stdout",
     "output_type": "stream",
     "text": [
      "To login go here: https://appstore.intelligentplant.com/verify-device and enter this code: RZGCQNTF\n"
     ]
    }
   ],
   "source": [
    "import json\n",
    "\n",
    "import intelligent_plant.app_store_client as app_store_client\n",
    "\n",
    "with open('config.json') as json_config_file:\n",
    "    config = json.load(json_config_file)\n",
    "\n",
    "    app_id = config['app']['id']\n",
    "    app_secret = config['app']['secret']\n",
    "    base_url = config['app_store']['base_url']\n",
    "\n",
    "\n",
    "authorize_response = app_store_client.begin_device_code_flow(app_id, scopes=['DataRead'], app_secret=app_secret)\n",
    "\n",
    "print(f\"To login go here: {authorize_response['verification_uri']} and enter this code: {authorize_response['user_code']}\")\n",
    "\n",
    "app_store = app_store_client.poll_device_token(app_id, authorize_response['device_code'], authorize_response['interval'], app_secret=app_secret)\n",
    "\n",
    "data_core = app_store.get_data_core_client()"
   ]
  },
  {
   "cell_type": "code",
   "execution_count": 2,
   "id": "484d1ace-f2b7-4476-bb46-1d207b68864c",
   "metadata": {},
   "outputs": [
    {
     "name": "stdout",
     "output_type": "stream",
     "text": [
      "['FCBB05262EADC0B147746EE6DFB2B3EA5C272C33C2C5E3FE8F473D85529461CA.Alarm Analysis Demo', 'FCBB05262EADC0B147746EE6DFB2B3EA5C272C33C2C5E3FE8F473D85529461CA.Oil Co Demo']\n"
     ]
    }
   ],
   "source": [
    "print(list(map(lambda x: x['Name']['QualifiedName'], data_core.get_data_sources())))"
   ]
  },
  {
   "cell_type": "code",
   "execution_count": null,
   "id": "36441431-6f7c-4cf6-995f-53a717deafdc",
   "metadata": {},
   "outputs": [],
   "source": []
  }
 ],
 "metadata": {
  "kernelspec": {
   "display_name": "Python 3 (ipykernel)",
   "language": "python",
   "name": "python3"
  },
  "language_info": {
   "codemirror_mode": {
    "name": "ipython",
    "version": 3
   },
   "file_extension": ".py",
   "mimetype": "text/x-python",
   "name": "python",
   "nbconvert_exporter": "python",
   "pygments_lexer": "ipython3",
   "version": "3.10.4"
  }
 },
 "nbformat": 4,
 "nbformat_minor": 5
}
