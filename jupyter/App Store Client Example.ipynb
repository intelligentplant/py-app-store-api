{
 "cells": [
  {
   "cell_type": "markdown",
   "metadata": {},
   "source": [
    "# Intelligent Plant App Store and Data Core Client (Python)"
   ]
  },
  {
   "cell_type": "markdown",
   "metadata": {},
   "source": [
    "## Setup\n",
    "- Register as a developer with the intelligent plant app store.\n",
    "- Create a new app by clicking \"+\" under Developer > Applications\n",
    "- Add the URL of the current page as an authorized redirect URL\n",
    "- Replace the app ID below with the ID of your app\n",
    "\n",
    "\n",
    "This sheet was testsed on \"IP Datasource 2\""
   ]
  },
  {
   "cell_type": "code",
   "execution_count": null,
   "metadata": {},
   "outputs": [],
   "source": [
    "app_id = \"73b72bcdd6234977a7f692c7972567a4\""
   ]
  },
  {
   "cell_type": "markdown",
   "metadata": {},
   "source": [
    "Import libraries we're going to use"
   ]
  },
  {
   "cell_type": "code",
   "execution_count": null,
   "metadata": {},
   "outputs": [],
   "source": [
    "import math\n",
    "import urllib.parse\n",
    "from functools import reduce\n",
    "\n",
    "import IPython.display as display\n",
    "import numpy as np\n",
    "import matplotlib.pyplot as plt\n",
    "import pandas as pd"
   ]
  },
  {
   "cell_type": "markdown",
   "metadata": {},
   "source": [
    "Import the Intelligent Plant App Store and Data Core clients."
   ]
  },
  {
   "cell_type": "code",
   "execution_count": null,
   "metadata": {},
   "outputs": [],
   "source": [
    "import intelligent_plant.app_store_client as app_store_client\n",
    "import intelligent_plant.utility as utility"
   ]
  },
  {
   "cell_type": "markdown",
   "metadata": {},
   "source": [
    "Import the modules necessary for generating the log in URL"
   ]
  },
  {
   "cell_type": "markdown",
   "metadata": {},
   "source": [
    "Get the URL if this notebook"
   ]
  },
  {
   "cell_type": "code",
   "execution_count": null,
   "metadata": {},
   "outputs": [],
   "source": [
    "current_url = None"
   ]
  },
  {
   "cell_type": "code",
   "execution_count": null,
   "metadata": {},
   "outputs": [],
   "source": [
    "%%javascript\n",
    "IPython.notebook.kernel.execute(\"current_url = '\" + window.location + \"'\");"
   ]
  },
  {
   "cell_type": "markdown",
   "metadata": {},
   "source": [
    "Check the URL to see if it has the access token.\n",
    "\n",
    "If it doesn't: generate a login link"
   ]
  },
  {
   "cell_type": "code",
   "execution_count": null,
   "metadata": {
    "scrolled": true
   },
   "outputs": [],
   "source": [
    "parsed = urllib.parse.urlparse(current_url)\n",
    "token = None\n",
    "\n",
    "try:\n",
    "    token = urllib.parse.parse_qs(parsed.fragment)['access_token'][0]\n",
    "except:\n",
    "    print(\"Token is not valid\")\n",
    "    print(token)\n",
    "\n",
    "if (not token):\n",
    "    url = app_store_client.get_implicit_grant_flow_url(app_id, current_url, [\"UserInfo\", \"DataRead\"])\n",
    "    print(\"Click this link to log in\")\n",
    "    print(url)"
   ]
  },
  {
   "cell_type": "code",
   "execution_count": null,
   "metadata": {},
   "outputs": [],
   "source": [
    "app_store = app_store_client.AppStoreClient(token, None)"
   ]
  },
  {
   "cell_type": "code",
   "execution_count": null,
   "metadata": {},
   "outputs": [],
   "source": [
    "data_core = app_store.get_data_core_client()"
   ]
  },
  {
   "cell_type": "markdown",
   "metadata": {},
   "source": [
    "## App Store\n",
    "Instatiate the appstore client\n",
    "\n",
    "These example queries are based on the functions in examples/example_queries.py"
   ]
  },
  {
   "cell_type": "markdown",
   "metadata": {},
   "source": [
    "Fetch the current user data"
   ]
  },
  {
   "cell_type": "code",
   "execution_count": null,
   "metadata": {},
   "outputs": [],
   "source": [
    "app_store.get_user_info()"
   ]
  },
  {
   "cell_type": "markdown",
   "metadata": {},
   "source": [
    "Fetch the current user's balance"
   ]
  },
  {
   "cell_type": "code",
   "execution_count": null,
   "metadata": {},
   "outputs": [],
   "source": [
    "app_store.get_user_balance()"
   ]
  },
  {
   "cell_type": "markdown",
   "metadata": {},
   "source": [
    "## Data Core\n",
    "\n",
    "These example queries are based on the functions in examples/example_queries.py"
   ]
  },
  {
   "cell_type": "markdown",
   "metadata": {},
   "source": [
    "Fetch data sources matching the filter '*' (so all of them)"
   ]
  },
  {
   "cell_type": "code",
   "execution_count": null,
   "metadata": {},
   "outputs": [],
   "source": [
    "data_sources = data_core.get_data_sources([\"*\"])\n",
    "dsns = list(map(lambda x: x[\"Name\"][\"DisplayName\"], data_sources))\n",
    "dsns"
   ]
  },
  {
   "cell_type": "markdown",
   "metadata": {},
   "source": [
    "IP Datasource 2 is used for the remainder of these examples\n",
    "\n",
    "Please ensure that it is the IP Datasource 2 is authroized (i.e. in the above list)"
   ]
  },
  {
   "cell_type": "code",
   "execution_count": null,
   "metadata": {},
   "outputs": [],
   "source": [
    "if (not any(list(map(lambda x: x == 'IP Datasource 2', dsns)))):\n",
    "    print (\"Please authorize IP Datasource 2 for Python API Test https://appstore.intelligentplant.com/Security/Apps\")"
   ]
  },
  {
   "cell_type": "code",
   "execution_count": null,
   "metadata": {},
   "outputs": [],
   "source": [
    "dsn = \"IP Datasource 2\""
   ]
  },
  {
   "cell_type": "markdown",
   "metadata": {},
   "source": [
    "Fetch all the tags in the \"IP Datasource 2\" data source. TPage size is 113 because that is the number of tags in the data source."
   ]
  },
  {
   "cell_type": "code",
   "execution_count": null,
   "metadata": {},
   "outputs": [],
   "source": [
    "tags = data_core.get_tags(dsn, 1, 113)\n",
    "tags"
   ]
  },
  {
   "cell_type": "markdown",
   "metadata": {},
   "source": [
    "We can use the first results as examples for the rest of this note book."
   ]
  },
  {
   "cell_type": "code",
   "execution_count": null,
   "metadata": {},
   "outputs": [],
   "source": [
    "tag = tags[0][\"Id\"]"
   ]
  },
  {
   "cell_type": "markdown",
   "metadata": {},
   "source": [
    "Take the first available tag and do a historical query over the last 30 days\n",
    "\n",
    "The parameters are:\n",
    "- Fully Qualified data source name\n",
    "- Tag  (can be a list)\n",
    "- Data function, \"plot\", \"interp\", \"max\", \"min\", \"avg\" and \"raw\" (raw is not recommended due to high volumes of data)\n",
    "- The query start time (can be relative e.g. \"-30d\" or absolute \"01/01/2019\"\n",
    "- The query end time\n",
    "- The sample interval\n",
    "\n",
    "Optionally takes annotations=True to include annotations"
   ]
  },
  {
   "cell_type": "markdown",
   "metadata": {},
   "source": [
    "We can request the plot dat for the last 30 days of this tag like this. There will be one data point for each day (so 30 points). The \"*\" means now"
   ]
  },
  {
   "cell_type": "code",
   "execution_count": null,
   "metadata": {},
   "outputs": [],
   "source": [
    "#request some data (from the first tag the tag search returned)\n",
    "data = data_core.get_plot_data({dsn: [tag]}, \"*-30d\", \"*\", 30)\n",
    "data"
   ]
  },
  {
   "cell_type": "markdown",
   "metadata": {},
   "source": [
    "There is a built in query function to convert the query result into a data frame"
   ]
  },
  {
   "cell_type": "code",
   "execution_count": null,
   "metadata": {},
   "outputs": [],
   "source": [
    "data_frame = utility.query_result_to_data_frame(data)"
   ]
  },
  {
   "cell_type": "code",
   "execution_count": null,
   "metadata": {},
   "outputs": [],
   "source": [
    "data_frame"
   ]
  },
  {
   "cell_type": "markdown",
   "metadata": {},
   "source": [
    "We can plot this data to see what it looks like"
   ]
  },
  {
   "cell_type": "code",
   "execution_count": null,
   "metadata": {},
   "outputs": [],
   "source": [
    "data_frame.plot()"
   ]
  },
  {
   "cell_type": "markdown",
   "metadata": {},
   "source": [
    "We can get the data for multiple tags simulataneously like so"
   ]
  },
  {
   "cell_type": "code",
   "execution_count": null,
   "metadata": {},
   "outputs": [],
   "source": [
    "#fetch the data for all the tags we found\n",
    "tag_names =  list(map(lambda x: x[\"Id\"], tags))\n",
    "#fetch the data for all the tags we found\n",
    "    \n",
    "many_data = data_core.get_plot_data({dsn: tag_names}, \"*-30d\", \"*\", 30)\n",
    "\n",
    "many_data_frame = utility.query_result_to_data_frame(many_data)"
   ]
  },
  {
   "cell_type": "code",
   "execution_count": null,
   "metadata": {},
   "outputs": [],
   "source": [
    "many_data_frame"
   ]
  },
  {
   "cell_type": "markdown",
   "metadata": {},
   "source": [
    "We can plot it the same way as before"
   ]
  },
  {
   "cell_type": "code",
   "execution_count": null,
   "metadata": {},
   "outputs": [],
   "source": [
    "#plot the data frame\n",
    "many_data_frame.plot(title=\"Lots of Data\", legend=False)"
   ]
  },
  {
   "cell_type": "markdown",
   "metadata": {},
   "source": [
    "You can also use the \"now\" function to query the current value of a tag."
   ]
  },
  {
   "cell_type": "code",
   "execution_count": null,
   "metadata": {},
   "outputs": [],
   "source": [
    "data_core.get_snapshot_data({dsn: [tag]})"
   ]
  },
  {
   "cell_type": "markdown",
   "metadata": {},
   "source": [
    "### Data Processing\n",
    "\n",
    "This query will get all of the data in the demo \"IP Datasource 2\""
   ]
  },
  {
   "cell_type": "code",
   "execution_count": null,
   "metadata": {},
   "outputs": [],
   "source": [
    "all_data = data_core.get_raw_data({dsn: tag_names}, \"2014-03-03\", \"2014-03-13\", 239)\n",
    "\n",
    "all_data_frame = utility.query_result_to_data_frame(all_data)"
   ]
  },
  {
   "cell_type": "markdown",
   "metadata": {},
   "source": [
    "We can use pandas functions to normalise the data between 0 and 1. This is useful for lot's of data processing applications"
   ]
  },
  {
   "cell_type": "code",
   "execution_count": null,
   "metadata": {},
   "outputs": [],
   "source": [
    "normalized_df=(all_data_frame-all_data_frame.min())/(all_data_frame.max()-all_data_frame.min())\n",
    "normalized_df"
   ]
  },
  {
   "cell_type": "code",
   "execution_count": null,
   "metadata": {},
   "outputs": [],
   "source": [
    "#plot the data frame\n",
    "normalized_df.plot(title=\"Normalized\", legend=False)"
   ]
  },
  {
   "cell_type": "markdown",
   "metadata": {},
   "source": [
    "Now that the data is normalised we can use it as the training and testing data for a multi layer perceptron."
   ]
  },
  {
   "cell_type": "code",
   "execution_count": null,
   "metadata": {},
   "outputs": [],
   "source": [
    "from sklearn.neural_network import MLPRegressor"
   ]
  },
  {
   "cell_type": "markdown",
   "metadata": {},
   "source": [
    "Seperate the data into seperate trainigna and testing parts"
   ]
  },
  {
   "cell_type": "code",
   "execution_count": null,
   "metadata": {},
   "outputs": [],
   "source": [
    "training_input = normalized_df.iloc[:-10,:-1]\n",
    "training_output = normalized_df.iloc[:-10,-1]\n",
    "\n",
    "testing_input = normalized_df.iloc[-10:,:-1]\n",
    "testing_output = normalized_df.iloc[-10:,-1]"
   ]
  },
  {
   "cell_type": "markdown",
   "metadata": {},
   "source": [
    "We can define the model and train it on our data"
   ]
  },
  {
   "cell_type": "code",
   "execution_count": null,
   "metadata": {},
   "outputs": [],
   "source": [
    "clf = MLPRegressor(solver='lbfgs', alpha=1e-5, hidden_layer_sizes=(5, 2), random_state=1)"
   ]
  },
  {
   "cell_type": "code",
   "execution_count": null,
   "metadata": {},
   "outputs": [],
   "source": [
    "clf.fit(training_input, training_output)"
   ]
  },
  {
   "cell_type": "markdown",
   "metadata": {},
   "source": [
    "We can then use the model to make predications about the unseen testing data"
   ]
  },
  {
   "cell_type": "code",
   "execution_count": null,
   "metadata": {},
   "outputs": [],
   "source": [
    "prediction = clf.predict(testing_input)"
   ]
  },
  {
   "cell_type": "markdown",
   "metadata": {},
   "source": [
    "Create a data frame to compare the models prediction to the actual output from the testing data"
   ]
  },
  {
   "cell_type": "code",
   "execution_count": null,
   "metadata": {},
   "outputs": [],
   "source": [
    "prediction_df = pd.DataFrame({ \"actual\": testing_output, \"prediction\": prediction})\n",
    "prediction_df"
   ]
  },
  {
   "cell_type": "code",
   "execution_count": null,
   "metadata": {},
   "outputs": [],
   "source": [
    "prediction_df.plot()"
   ]
  },
  {
   "cell_type": "code",
   "execution_count": null,
   "metadata": {},
   "outputs": [],
   "source": []
  },
  {
   "cell_type": "code",
   "execution_count": null,
   "metadata": {},
   "outputs": [],
   "source": []
  }
 ],
 "metadata": {
  "kernelspec": {
   "display_name": "Python 3",
   "language": "python",
   "name": "python3"
  },
  "language_info": {
   "codemirror_mode": {
    "name": "ipython",
    "version": 3
   },
   "file_extension": ".py",
   "mimetype": "text/x-python",
   "name": "python",
   "nbconvert_exporter": "python",
   "pygments_lexer": "ipython3",
   "version": "3.7.3"
  }
 },
 "nbformat": 4,
 "nbformat_minor": 2
}
